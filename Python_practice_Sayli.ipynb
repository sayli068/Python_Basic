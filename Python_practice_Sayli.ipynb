{
 "cells": [
  {
   "cell_type": "markdown",
   "metadata": {},
   "source": [
    "#### Write a program to get Factorial of a number "
   ]
  },
  {
   "cell_type": "code",
   "execution_count": 1,
   "metadata": {},
   "outputs": [],
   "source": [
    "###Function to get factorial of a number\n",
    "def factorial_fun(n):\n",
    "    if n==0:\n",
    "        return 1\n",
    "    elif n<0:\n",
    "        return -1\n",
    "    else:\n",
    "        f=1\n",
    "        for i in range(1,n+1):\n",
    "            f=f*i\n",
    "        return f"
   ]
  },
  {
   "cell_type": "code",
   "execution_count": 2,
   "metadata": {},
   "outputs": [
    {
     "name": "stdout",
     "output_type": "stream",
     "text": [
      "12\n"
     ]
    },
    {
     "data": {
      "text/plain": [
       "479001600"
      ]
     },
     "execution_count": 2,
     "metadata": {},
     "output_type": "execute_result"
    }
   ],
   "source": [
    "number=int(input())\n",
    "factorial_fun(number) ###function call"
   ]
  },
  {
   "cell_type": "markdown",
   "metadata": {},
   "source": [
    "#### Reverse the digit"
   ]
  },
  {
   "cell_type": "code",
   "execution_count": 3,
   "metadata": {},
   "outputs": [],
   "source": [
    "####Function to reverse a digit\n",
    "def revrese_digit(n):\n",
    "    r=0\n",
    "    while(n>0):\n",
    "        r=r*10 + n%10\n",
    "        n=n//10\n",
    "    return r   "
   ]
  },
  {
   "cell_type": "code",
   "execution_count": 4,
   "metadata": {},
   "outputs": [
    {
     "name": "stdout",
     "output_type": "stream",
     "text": [
      "12345\n"
     ]
    },
    {
     "data": {
      "text/plain": [
       "54321"
      ]
     },
     "execution_count": 4,
     "metadata": {},
     "output_type": "execute_result"
    }
   ],
   "source": [
    "number=int(input())\n",
    "revrese_digit(number) ###function call"
   ]
  },
  {
   "cell_type": "markdown",
   "metadata": {},
   "source": [
    "#### Print the patterns"
   ]
  },
  {
   "cell_type": "code",
   "execution_count": 5,
   "metadata": {},
   "outputs": [
    {
     "name": "stdout",
     "output_type": "stream",
     "text": [
      "4\n",
      "*******\n",
      " ***** \n",
      "  ***  \n",
      "   *   \n"
     ]
    }
   ],
   "source": [
    "def pattern_print(n):\n",
    "    for i in range(n,0,-1):\n",
    "        a='*'*(2*i-1)\n",
    "        a=a.center(2*n-1,' ')\n",
    "        print(a)\n",
    "n=int(input())\n",
    "pattern_print(n)"
   ]
  },
  {
   "cell_type": "code",
   "execution_count": 6,
   "metadata": {},
   "outputs": [
    {
     "name": "stdout",
     "output_type": "stream",
     "text": [
      "5\n",
      "----*----\n",
      "---***---\n",
      "--*****--\n",
      "-*******-\n",
      "*********\n"
     ]
    }
   ],
   "source": [
    "###Print half prymid\n",
    "def pattern_print(n):\n",
    "    for i in range(0,n):\n",
    "        a='*'*(2*i+1)\n",
    "        a=a.center(2*n-1,'-')\n",
    "        print(a)\n",
    "n=int(input())\n",
    "pattern_print(n)"
   ]
  },
  {
   "cell_type": "code",
   "execution_count": 7,
   "metadata": {},
   "outputs": [
    {
     "name": "stdout",
     "output_type": "stream",
     "text": [
      "sayli\n",
      "    s    \n",
      "   aaa   \n",
      "  yyyyy  \n",
      " lllllll \n",
      "iiiiiiiii\n"
     ]
    }
   ],
   "source": [
    "###Print string \n",
    "def pattern_print(str_):\n",
    "    str1=list(str_)\n",
    "    n=len(str1)\n",
    "    for i in range(0,n):\n",
    "        a1=str1[i]\n",
    "        a=a1*(2*i+1)\n",
    "        a=a.center(2*n-1,' ')\n",
    "        print(a)\n",
    "n=(input())\n",
    "pattern_print(n)"
   ]
  },
  {
   "cell_type": "code",
   "execution_count": 8,
   "metadata": {},
   "outputs": [
    {
     "name": "stdout",
     "output_type": "stream",
     "text": [
      "8\n",
      "❤️     \n",
      "❤️❤️   \n",
      "❤️❤️❤️ \n",
      "❤️❤️❤️❤️\n",
      "❤️❤️❤️❤️❤️\n",
      "❤️❤️❤️❤️❤️❤️\n",
      "❤️❤️❤️❤️❤️❤️❤️\n",
      "❤️❤️❤️❤️❤️❤️❤️❤️\n"
     ]
    }
   ],
   "source": [
    "##Print left angled triangle\n",
    "def pattern_print_left(n):   \n",
    "    for i in range(n):\n",
    "        a='\\u2764\\uFE0F'*(i+1)\n",
    "        a=a.ljust(n-1)\n",
    "        print(a)\n",
    "n=int(input())\n",
    "pattern_print_left(n)"
   ]
  },
  {
   "cell_type": "code",
   "execution_count": 9,
   "metadata": {},
   "outputs": [
    {
     "name": "stdout",
     "output_type": "stream",
     "text": [
      "5\n",
      "    *\n",
      "   **\n",
      "  ***\n",
      " ****\n",
      "*****\n"
     ]
    }
   ],
   "source": [
    "##Print right angled triangle\n",
    "def pattern_print_right(n):   \n",
    "    for i in range(n):        \n",
    "        a=(i+1)*'*'\n",
    "        a1=a.rjust(n)\n",
    "        print(a1)\n",
    "n=int(input())\n",
    "pattern_print_right(n)"
   ]
  },
  {
   "cell_type": "code",
   "execution_count": 10,
   "metadata": {},
   "outputs": [
    {
     "name": "stdout",
     "output_type": "stream",
     "text": [
      "4\n",
      "   a   \n",
      "  aaa  \n",
      " aaaaa \n",
      "aaaaaaa\n"
     ]
    }
   ],
   "source": [
    "n=int(input())\n",
    "c=\"a\"\n",
    "for i in range(n):\n",
    "    a= (c*i).rjust(n-1)+c+(c*i).ljust(n-1)\n",
    "    print(a)"
   ]
  },
  {
   "cell_type": "code",
   "execution_count": 11,
   "metadata": {},
   "outputs": [
    {
     "name": "stdout",
     "output_type": "stream",
     "text": [
      "5\n",
      "*********\n",
      " ******* \n",
      "  *****  \n",
      "   ***   \n",
      "    *    \n"
     ]
    }
   ],
   "source": [
    "side = int(input()) \n",
    "c = '*'\n",
    "for i in range(side-1,-1,-1):\n",
    "    print((c*i).rjust(side-1)+c+(c*i).ljust(side-1))"
   ]
  },
  {
   "cell_type": "code",
   "execution_count": 12,
   "metadata": {},
   "outputs": [
    {
     "name": "stdout",
     "output_type": "stream",
     "text": [
      "5\n",
      "--------e--------\n",
      "------e-d-e------\n",
      "----e-d-c-d-e----\n",
      "--e-d-c-b-c-d-e--\n",
      "e-d-c-b-a-b-c-d-e\n",
      "--e-d-c-b-c-d-e--\n",
      "----e-d-c-d-e----\n",
      "------e-d-e------\n",
      "--------e--------\n"
     ]
    }
   ],
   "source": [
    "n = int(input())\n",
    "\n",
    "# Write your code below\n",
    "import string\n",
    "alpha = string.ascii_lowercase\n",
    "L = []\n",
    "for i in range(n):\n",
    "    s = \"-\".join(alpha[i:n])\n",
    "    #L.append(s)\n",
    "    L.append((s[::-1]+s[1:]).center(4*n-3, \"-\"))\n",
    "    #print(L)\n",
    "print('\\n'.join(L[:0:-1]+L))"
   ]
  },
  {
   "cell_type": "markdown",
   "metadata": {},
   "source": [
    "#### Armstrong number"
   ]
  },
  {
   "cell_type": "code",
   "execution_count": 13,
   "metadata": {},
   "outputs": [
    {
     "name": "stdout",
     "output_type": "stream",
     "text": [
      "153\n",
      "True\n"
     ]
    }
   ],
   "source": [
    "num=int(input())\n",
    "temp=num\n",
    "sum1=0\n",
    "while (temp >0):\n",
    "    digit=temp%10\n",
    "    sum1=sum1+(digit**3)\n",
    "    temp=temp//10\n",
    "if num==sum1:\n",
    "    print(True)\n",
    "else:\n",
    "    print(False)"
   ]
  },
  {
   "cell_type": "markdown",
   "metadata": {},
   "source": [
    "#### Fibonacci Series"
   ]
  },
  {
   "cell_type": "code",
   "execution_count": 14,
   "metadata": {},
   "outputs": [
    {
     "name": "stdout",
     "output_type": "stream",
     "text": [
      "10\n",
      "0\n",
      "1\n",
      "1\n",
      "2\n",
      "3\n",
      "5\n",
      "8\n",
      "13\n",
      "21\n",
      "34\n"
     ]
    }
   ],
   "source": [
    "n=int(input())\n",
    "n1,n2=0,1\n",
    "count=0\n",
    "if n==1:\n",
    "    print(0)\n",
    "else:\n",
    "    while(count<n):\n",
    "        print(n1)\n",
    "        nth=n1+n2\n",
    "        n1=n2\n",
    "        n2=nth\n",
    "        count=count+1"
   ]
  },
  {
   "cell_type": "markdown",
   "metadata": {},
   "source": [
    "#### Write python code to find the sum of prime numbers from 2 to n where n is a positive integer entered by the user"
   ]
  },
  {
   "cell_type": "code",
   "execution_count": 15,
   "metadata": {},
   "outputs": [
    {
     "name": "stdout",
     "output_type": "stream",
     "text": [
      "5\n",
      "10\n"
     ]
    }
   ],
   "source": [
    "n=int(input())\n",
    "sum1 = 0\n",
    "for num in range(2, n+ 1):\n",
    "    i = 1\n",
    "    for i in range(2, num):\n",
    "        if (int(num % i) == 0):\n",
    "            i = num\n",
    "            break;\n",
    "\n",
    "    #If the number is prime then add it.\n",
    "    if i is not num:\n",
    "        sum1 += num\n",
    "print(sum1)"
   ]
  },
  {
   "cell_type": "markdown",
   "metadata": {},
   "source": [
    "#### Sanjay has m rupees, each chocolate costs c rupees, shopkeeper will give away k chocolates for w wrappers. Can you find now how many chocolates Sanjay will be able to eat?"
   ]
  },
  {
   "cell_type": "markdown",
   "metadata": {},
   "source": [
    "Sample input:\n",
    "\n",
    "15, 2, 3, 2\n",
    "\n",
    "\n",
    "Sample output:\n",
    "\n",
    "17\n",
    "\n",
    "\n",
    "Explanation:\n",
    "\n",
    "Sanjay has 15 rupees, buys 7 chocolates for 2 rupees each.\n",
    "\n",
    "Sanjay now has 7 wrappers, exchanges 6 of them for 4 more chocolates.\n",
    "\n",
    "Sanjay now has 5 wrappers and exchanges 3 of them for 2 more chocolates.\n",
    "\n",
    "Sanjay now has 4 wrappers and exchanges 3 of them for 2 more chocolates.\n",
    "\n",
    "Sanjay now has 3 wrappers and exchanges them for 2 chocolates making a total of 17 chocolates."
   ]
  },
  {
   "cell_type": "code",
   "execution_count": 16,
   "metadata": {},
   "outputs": [
    {
     "name": "stdout",
     "output_type": "stream",
     "text": [
      "15,2,3,2\n",
      "17\n"
     ]
    }
   ],
   "source": [
    "ip=input()\n",
    "input_list=ip.split(',')\n",
    "m=int(input_list[0])\n",
    "c=int(input_list[1])\n",
    "w=int(input_list[2])\n",
    "k=int(input_list[3])\n",
    "choc=m//c\n",
    "W=m//c\n",
    "#start writing your code here\n",
    "while(W//w!=0):\n",
    "    choc=choc+(k*(W//w))\n",
    "    W=(k*(W//w)) + W%w\n",
    "\n",
    "#dont forget to print the number of chocolates Sanjay can eat\n",
    "print(choc)"
   ]
  },
  {
   "cell_type": "markdown",
   "metadata": {},
   "source": [
    "#### You are planning to go to your friend's wedding and you have long events all month, lasting at least a few days. You have the start and end dates of events and your task is to find out events overlapping with the wedding date."
   ]
  },
  {
   "cell_type": "markdown",
   "metadata": {},
   "source": [
    "Sample input:\n",
    "[[29,31],[23,26],[24,25]]\n",
    "24\n",
    "\n",
    "Sample output:\n",
    "2\n",
    "\n",
    "Explanation:\n",
    "There are three events in the month.\n",
    "Event 1= from date 29 to 31\n",
    "Event 2= from date 23 to 26\n",
    "Event 3= from date 24 to 25\n",
    "Wedding is on 24. This means it will clash with Event 3 and Event 2, that is two events. The output is therefore 2."
   ]
  },
  {
   "cell_type": "code",
   "execution_count": null,
   "metadata": {},
   "outputs": [],
   "source": [
    "#taking input\n",
    "import ast\n",
    "input_str1 = input()\n",
    "input_list1 = ast.literal_eval(input_str1)\n",
    "events = input_list1\n",
    "\n",
    "wedding = int(input())\n",
    "\n",
    "clash=0\n",
    "#start writing from here\n",
    "for event in events:\n",
    "    if event[0]<=wedding and event[1]>=wedding:\n",
    "        clash=clash+1\n",
    "\n",
    "print(clash)"
   ]
  },
  {
   "cell_type": "markdown",
   "metadata": {},
   "source": [
    "#### Fenced Matrix"
   ]
  },
  {
   "cell_type": "markdown",
   "metadata": {},
   "source": [
    "4,5\n",
    "\n",
    "\n",
    "Sample output:\n",
    "\n",
    "[1, 1, 1, 1, 1]\n",
    "\n",
    "[1, 0, 0, 0, 1]\n",
    "\n",
    "[1, 0, 0, 0, 1]\n",
    "\n",
    "[1, 1, 1, 1, 1]"
   ]
  },
  {
   "cell_type": "code",
   "execution_count": 20,
   "metadata": {},
   "outputs": [
    {
     "name": "stdout",
     "output_type": "stream",
     "text": [
      "4,5\n",
      "[1, 1, 1, 1, 1]\n",
      "[1, 0, 0, 0, 1]\n",
      "[1, 0, 0, 0, 1]\n",
      "[1, 1, 1, 1, 1]\n"
     ]
    }
   ],
   "source": [
    "import ast \n",
    "mylist=ast.literal_eval(input())\n",
    "m=mylist[0]\n",
    "n=mylist[1]\n",
    "\n",
    "#start writing code here\n",
    "final=[0]*n\n",
    "final=[list(final) for i in range(m)]\n",
    "for i in range(m):\n",
    "    for j in range(n):\n",
    "        if i==0 or j==0 or i==m-1 or j==n-1:\n",
    "            final[i][j]=1\n",
    "            \n",
    "for i in final:\n",
    "    print(i)"
   ]
  },
  {
   "cell_type": "markdown",
   "metadata": {},
   "source": [
    "#### Lego Stack"
   ]
  },
  {
   "cell_type": "markdown",
   "metadata": {},
   "source": [
    "You are given a row of Lego Blocks consisting of n blocks. All the blocks given have a square base whose side length is known. You need to stack the blocks over each other and create a vertical tower. Block-1 can go over Block-2 only if sideLength(Block-2)=>sideLength(Block-1).\n",
    "\n",
    "From the row of Lego blocks, you can only pick up either the leftmost or rightmost block.\n",
    "\n",
    "Print \"Possible\" if it is possible to stack all n cubes this way or else print \"Impossible\".\n",
    "\n",
    "\n",
    "\n",
    "Input Format:\n",
    "\n",
    "The input will contain a list of n integers representing the side length of each block's base in the row starting from the leftmost.\n",
    "\n",
    "\n",
    "\n",
    "Sample Input:\n",
    "\n",
    "[5 ,4, 2, 1, 4 ,5]\n",
    "\n",
    "Sample Output:\n",
    "\n",
    "Possible"
   ]
  },
  {
   "cell_type": "code",
   "execution_count": 21,
   "metadata": {},
   "outputs": [
    {
     "name": "stdout",
     "output_type": "stream",
     "text": [
      "[5,4,2,1,4,5]\n",
      "Possible\n"
     ]
    }
   ],
   "source": [
    "import ast\n",
    "#input_str = sys.stdin.read()\n",
    "sides = ast.literal_eval(input())#list of side lengths\n",
    "n = len(sides) \n",
    "\n",
    "my_stack = []\n",
    "i = 0\n",
    "\n",
    "while(i < n):\n",
    "    if sides[i] >= sides[n-1]:\n",
    "        my_stack.append(sides[i])\n",
    "        i = i+1\n",
    "    else:\n",
    "        my_stack.append(sides[n-1])\n",
    "        n = n - 1\n",
    "\n",
    "flag = 0\n",
    "i = 1\n",
    "while i < len(my_stack): \n",
    "    if(my_stack[i] > my_stack[i - 1]): \n",
    "        flag = 1\n",
    "    i += 1\n",
    "      \n",
    "\n",
    "if (not flag) : \n",
    "    print(\"Possible\") \n",
    "else : \n",
    "    print(\"Impossible\") "
   ]
  },
  {
   "cell_type": "markdown",
   "metadata": {},
   "source": [
    "#### Pascal's Triangle"
   ]
  },
  {
   "cell_type": "markdown",
   "metadata": {},
   "source": [
    "A pascal's triangle is a very interesting mathematical concept.\n",
    "Each number here is a sum of the two numbers directly above it.\n",
    "Following is an 8 level Pascal's triangle:"
   ]
  },
  {
   "cell_type": "code",
   "execution_count": 22,
   "metadata": {},
   "outputs": [
    {
     "name": "stdout",
     "output_type": "stream",
     "text": [
      "[1, 5, 10, 10, 5, 1]\n"
     ]
    }
   ],
   "source": [
    "def pascaline(n):\n",
    "    n = n - 1\n",
    "    line = [1]\n",
    "\n",
    "    for k in range(max(n ,0)):\n",
    "\n",
    "        line.append(int(line[k]*(n-k)/(k+1)))\n",
    "\n",
    "    return line\n",
    "print(pascaline(6))"
   ]
  },
  {
   "cell_type": "markdown",
   "metadata": {},
   "source": [
    "#### Break the list"
   ]
  },
  {
   "cell_type": "markdown",
   "metadata": {},
   "source": [
    "Write a Python program to divide a given list into chunks of size k."
   ]
  },
  {
   "cell_type": "code",
   "execution_count": null,
   "metadata": {},
   "outputs": [],
   "source": [
    "input_list = ast.literal_eval(input())\n",
    "lis=input_list[0]\n",
    "k=input_list[1]\n",
    "\n",
    "final = [lis[i * k:(i + 1) * k] for i in range((len(lis) + k - 1) // k )] \n",
    "for i in final:\n",
    "    print(i)"
   ]
  },
  {
   "cell_type": "markdown",
   "metadata": {},
   "source": [
    "#### Palindrome String"
   ]
  },
  {
   "cell_type": "code",
   "execution_count": 24,
   "metadata": {},
   "outputs": [
    {
     "name": "stdout",
     "output_type": "stream",
     "text": [
      "sayas\n",
      "1\n"
     ]
    }
   ],
   "source": [
    "s = input()\n",
    "\n",
    "#check for palindrome here\n",
    "s=s.lower()\n",
    "r=''\n",
    "\n",
    "for i in s:\n",
    "    r=i+r \n",
    "    \n",
    "if s==r:\n",
    "    print(1)\n",
    "else:\n",
    "    print(0)"
   ]
  },
  {
   "cell_type": "markdown",
   "metadata": {},
   "source": [
    "#### Reverse Words"
   ]
  },
  {
   "cell_type": "code",
   "execution_count": 25,
   "metadata": {},
   "outputs": [
    {
     "name": "stdout",
     "output_type": "stream",
     "text": [
      "sayli sanket\n",
      "sanket sayli\n"
     ]
    }
   ],
   "source": [
    "sentence=input()\n",
    "\n",
    "#reverse the words of the sentence here\n",
    "list1=sentence.split(' ')\n",
    "output=''\n",
    "for i in range(len(list1)-1,-1,-1):\n",
    "    output=output+list1[i]+ ' '\n",
    "    \n",
    "output=output.strip()\n",
    "\n",
    "print(output)"
   ]
  },
  {
   "cell_type": "markdown",
   "metadata": {},
   "source": [
    "#### No Spaces"
   ]
  },
  {
   "cell_type": "markdown",
   "metadata": {},
   "source": [
    "Sample input:\n",
    "data science\n",
    "\n",
    "Sample output:\n",
    "Data_Science"
   ]
  },
  {
   "cell_type": "code",
   "execution_count": 26,
   "metadata": {},
   "outputs": [
    {
     "name": "stdout",
     "output_type": "stream",
     "text": [
      "sayli_kulkarni\n",
      "Sayli_kulkarni\n"
     ]
    }
   ],
   "source": [
    "s=input()\n",
    "\n",
    "#write code to format the string s as asked \n",
    "s=s.lower()\n",
    "list1=s.split(' ')\n",
    "list2=[word[0].upper() + word[1:] for word in list1]\n",
    "string1='_'.join(list2)\n",
    "\n",
    "print(string1)"
   ]
  },
  {
   "cell_type": "markdown",
   "metadata": {},
   "source": [
    "#### Write a program that receives a string and shifts all the vowels present in it to the beginning."
   ]
  },
  {
   "cell_type": "code",
   "execution_count": 27,
   "metadata": {},
   "outputs": [
    {
     "name": "stdout",
     "output_type": "stream",
     "text": [
      "sayli\n",
      "aisyl\n"
     ]
    }
   ],
   "source": [
    "s = input() \n",
    "vowel='aeiouAEIOU'\n",
    "v=''\n",
    "a=''\n",
    "\n",
    "for c in s:\n",
    "    if c in vowel:\n",
    "        v=v+c \n",
    "    else:\n",
    "        a=a+c \n",
    "        \n",
    "print(v+a)"
   ]
  },
  {
   "cell_type": "markdown",
   "metadata": {},
   "source": [
    "#### Clean Numbers"
   ]
  },
  {
   "cell_type": "markdown",
   "metadata": {},
   "source": [
    "Sample input:\n",
    "         3,213\n",
    "\n",
    "Sample output:\n",
    "3213\n"
   ]
  },
  {
   "cell_type": "code",
   "execution_count": 29,
   "metadata": {},
   "outputs": [
    {
     "name": "stdout",
     "output_type": "stream",
     "text": [
      "3,213\n",
      "3213\n"
     ]
    }
   ],
   "source": [
    "#input has been take  for you\n",
    "value=input()\n",
    "\n",
    "#start writing your code from here\n",
    "val1=value.strip()\n",
    "val2=val1.replace(',','')\n",
    "print(val2)"
   ]
  },
  {
   "cell_type": "markdown",
   "metadata": {},
   "source": [
    "#### Dictionary And List"
   ]
  },
  {
   "cell_type": "markdown",
   "metadata": {},
   "source": [
    "Sample input:\n",
    "{ 'Pen': ['Gel', 'Ink', 'ball'],\n",
    "'Mobile': ['Android', 'apple'] }\n",
    "\n",
    "Sample output:\n",
    "['Pen_Gel', 'Pen_Ink', 'Pen_ball', 'Mobile_Android', 'Mobile_apple']"
   ]
  },
  {
   "cell_type": "code",
   "execution_count": 31,
   "metadata": {},
   "outputs": [
    {
     "name": "stdout",
     "output_type": "stream",
     "text": [
      "['Pen_Gel', 'Pen_Ink', 'Pen_ball', 'Mobile_Android', 'Mobile_apple']\n"
     ]
    }
   ],
   "source": [
    "\n",
    "input_dict = { 'Pen': ['Gel', 'Ink', 'ball'], 'Mobile': ['Android', 'apple'] }\n",
    "\n",
    "l1=[]\n",
    "#start writing your code here\n",
    "for key in input_dict.keys():\n",
    "    for w in input_dict[key]:\n",
    "        a=key+'_'+ w \n",
    "        l1.append(a)\n",
    "        \n",
    "print(l1)"
   ]
  },
  {
   "cell_type": "markdown",
   "metadata": {},
   "source": [
    "#### Vote for Food\n",
    "Description\n",
    "Your team is going for camping and you are taking a vote to decide what food to pack for dinner.\n",
    "Everyone gets a vote and the food item that gets at least one more than half of the votes wins. None of the items wins if nothing gets at least one more than half votes. Assume that every person gets only one vote.\n",
    "The input will contain a list of food items where each occurrence of an item represents one vote. You should print the winning food item as output. If there is no clear winner, print \"NOTA\". \n",
    "\n",
    "Sample Input:\n",
    "[\"pasta\",\"pasta\",\"pasta\",\"pasta\",\"pasta\",\"paratha\",\"paratha\",\"paratha\"]\n",
    "Sample Output:\n",
    "pasta"
   ]
  },
  {
   "cell_type": "code",
   "execution_count": 32,
   "metadata": {},
   "outputs": [
    {
     "name": "stdout",
     "output_type": "stream",
     "text": [
      "pasta\n"
     ]
    }
   ],
   "source": [
    "votes = [\"pasta\",\"pasta\",\"pasta\",\"paratha\",\"paratha\",\"paratha\",\"pasta\"]\n",
    "votes_dist={}\n",
    "for i in votes:\n",
    "    if i not in votes_dist.keys():\n",
    "        votes_dist[i]=1\n",
    "    else:\n",
    "        votes_dist[i]=votes_dist[i]+1\n",
    "        \n",
    "Keymax = max(votes_dist, key=votes_dist.get)\n",
    "values_uni=len(list(set(list(votes_dist.values()))))\n",
    "if values_uni==1:\n",
    "    print('NOTA')\n",
    "else:\n",
    "    print(Keymax)"
   ]
  },
  {
   "cell_type": "markdown",
   "metadata": {},
   "source": [
    "#### AP series"
   ]
  },
  {
   "cell_type": "code",
   "execution_count": 33,
   "metadata": {},
   "outputs": [
    {
     "data": {
      "text/plain": [
       "[2, 5, 8, 11, 14, 17, 20, 23, 26, 29, 32]"
      ]
     },
     "execution_count": 33,
     "metadata": {},
     "output_type": "execute_result"
    }
   ],
   "source": [
    "a=2\n",
    "d=3\n",
    "n=10\n",
    "first_term=a\n",
    "ap_series=[]\n",
    "ap_series.append(a)\n",
    "for i in range (0,n):\n",
    "    curr_term=first_term+d\n",
    "    first_term=curr_term\n",
    "    ap_series.append(curr_term)\n",
    "ap_series"
   ]
  }
 ],
 "metadata": {
  "kernelspec": {
   "display_name": "Python 3",
   "language": "python",
   "name": "python3"
  },
  "language_info": {
   "codemirror_mode": {
    "name": "ipython",
    "version": 3
   },
   "file_extension": ".py",
   "mimetype": "text/x-python",
   "name": "python",
   "nbconvert_exporter": "python",
   "pygments_lexer": "ipython3",
   "version": "3.8.5"
  }
 },
 "nbformat": 4,
 "nbformat_minor": 4
}
